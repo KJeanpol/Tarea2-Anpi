{
 "cells": [
  {
   "cell_type": "markdown",
   "metadata": {
    "kernel": "SoS"
   },
   "source": [
    "<div style=\"text-align: center;\" role=\"presentation\">\n",
    "<h1 role=\"presentation\"><strong><span role=\"presentation\">An&aacute;lisis Num&eacute;rico para Ingenier&iacute;a - I Semestre 2020</span></strong></h1>"
   ]
  },
  {
   "cell_type": "markdown",
   "metadata": {
    "kernel": "SoS"
   },
   "source": [
    "<h1 style=\"text-align: center;\"><span style=\"color: #0000ff;\">TAREA 2</span></h1>"
   ]
  },
  {
   "cell_type": "markdown",
   "metadata": {
    "kernel": "SoS"
   },
   "source": [
    "<p><strong>Descripci&oacute;n:&nbsp;</strong>Este documento presenta la resolución de la tarea 2 del curso Análisis Numérico para Ingeniería.</p>\n",
    "\n",
    "<p><strong>Integrantes</strong><ul>\n",
    "<li>Kenneth Jeanpol Alvarado Mendez 2015095715</li>\n",
    "<li>Yenira Chacón Molina 2015075331</li>\n",
    "<li>Jonathan Alberto Guzmán Araya 2013041216</li>\n",
    "<li>Dario Josué Rodríguez Obando 2017117105</li>    \n",
    "</ul>.</p>\n"
   ]
  },
  {
   "cell_type": "markdown",
   "metadata": {
    "kernel": "SoS"
   },
   "source": [
    "<a id='biseccion'></a>\n",
    "<h2><span style=\"color: #993300;\"><span style=\"text-decoration: underline;\"><strong></strong>Parte 1: Método de Newton-Raphson</span></span></h2>"
   ]
  },
  {
   "cell_type": "markdown",
   "metadata": {
    "kernel": "SoS"
   },
   "source": [
    "<h3><strong>a) Problema a Resolver </strong></h3>"
   ]
  },
  {
   "cell_type": "markdown",
   "metadata": {
    "kernel": "SoS"
   },
   "source": [
    "\n",
    "<h4>Dar solución a un sistema de m ecuaciones no lineales con m incógnitas. El problema se puede representar matemáticamente como :</h4>\n",
    "\n",
    "$$ F(x)=0_{m} $$\n",
    "donde  $0_{m}=(0,0,....,0)^{T} \\in \\mathbb{R}^{m}$\n",
    "\n",
    "$$\\begin{equation}\n",
    "F(x)=\\begin{pmatrix}\n",
    "f_{1}(x_{1},x_{2},.....,x_{m}) \\\\\n",
    "f_{2}(x_{1},x_{2},.....,x_{m})  \\\\\n",
    "                                .\\\\\n",
    "                                 .\\\\\n",
    "f_{m}(x_{1},x_{2},.....,x_{m})\\end{pmatrix}\n",
    "\\end{equation}$$\n",
    "\n",
    "\n",
    "y cada  $f_{i}(x_{1},x_{2},.....,x_{m}):\\mathbb{R}^{m}\\rightarrow \\mathbb{R}$ es una función no lineal\n",
    "    \n"
   ]
  },
  {
   "cell_type": "markdown",
   "metadata": {
    "kernel": "SoS"
   },
   "source": [
    "<h3><strong>b) Formulaci&oacute;n Matem&aacute;tica</strong></h3>"
   ]
  },
  {
   "cell_type": "markdown",
   "metadata": {
    "kernel": "SoS"
   },
   "source": [
    "$\\left\\{\\begin{matrix}\n",
    "x_{k+1} & = & x_{k}-[J_{f}(x_{k})]^{-1}f(x_{k})\\\\ \n",
    "x_{0} \\in \\mathbb{R}^{n} &  &\\text{Vector inicial}\n",
    "\\end{matrix}\\right.$\n",
    "\n",
    "Donde $J_{f}(x_{k})$ es invertible para todo $k=0,1,2,....$\n"
   ]
  },
  {
   "cell_type": "markdown",
   "metadata": {
    "kernel": "SoS"
   },
   "source": [
    "<h3><strong>c) Valores Iniciales</strong></h3>"
   ]
  },
  {
   "cell_type": "markdown",
   "metadata": {
    "kernel": "SoS"
   },
   "source": [
    "$x_{0} \\in \\mathbb{R}^{n}=$ Vector inicial para empezar las iteraciones que satisfacen $ F(x)=0_{m} $"
   ]
  },
  {
   "cell_type": "markdown",
   "metadata": {
    "kernel": "SoS"
   },
   "source": [
    "<h3><strong>d) Pasos del m&eacute;todo (Pseudoc&oacute;digo)</strong></h3>"
   ]
  },
  {
   "cell_type": "markdown",
   "metadata": {
    "kernel": "SoS"
   },
   "source": [
    "<div class=\"alert alert-block alert-success\">\n",
    "<h2 style=\"text-align: center;\">Método de Newton-Raphson</h2>\n",
    "    \n",
    "    \n",
    "<h4 style=\"padding-left: 30px;\">Entradas:</h4>\n",
    "    \n",
    "<p>\n",
    "        <li>$f$= sistemas de ecuaciones no lineales</li>\n",
    "        <li>vars= variables de las cuales son dependientes el sistema de ecuaciones</li>\n",
    "        <li>x_{0}= vector inicial de soluciones para empezar las iteraciones del método</li>\n",
    "        <li>tol= tolerancia minima aceptada para el vector de soluciones</li>\n",
    "        <li>maxIter= Cantidad maxima de iteraciones a realizar para encontrar el vector de soluciones</li>\n",
    "</p>\n",
    "    \n",
    "    \n",
    "<h4 style=\"padding-left: 30px;\">Pseudoc&oacute;digo:</h4>\n",
    "<ul>\n",
    "    <li>Encontrar el jacobiano de $f$ como $Jf$\n",
    "    <li>Definir $x_{k}=x_{0}$\n",
    "    <li>Definir el error como $error=tol+1$\n",
    "    <li>Definir la iteracion como $k=t0$\n",
    "<ul>\n",
    "    \n",
    "\n",
    "</ul>\n",
    "</li><li> Mientras el $error>tol $ y $iteracion < maxIter$\n",
    "<ul>\n",
    "    \n",
    "<li> Jf_xk = $Jf(x_{k})$</li>\n",
    "<li>  f_xk = $f(x_{k})$</li>\n",
    "<li>  $y_{k}$= encontrar la solución de la ecuación \" Jf_xk$* y = $ f_xk \"</li>\n",
    "<li>  $x_{k}$ = $x_{k} $ -  $y_{k}$ </li>   \n",
    "    \n",
    "     \n",
    "<li>k = k+1</li>    \n",
    "<li>error = $\\begin{Vmatrix}\n",
    "f(x_{k})\n",
    "\\end{Vmatrix}$</li>\n",
    "    \n",
    "\n",
    "</ul>\n",
    "</li>\n",
    "<li>fin</li>\n",
    "</ul>\n",
    "</div>\n"
   ]
  },
  {
   "cell_type": "markdown",
   "metadata": {
    "kernel": "SoS"
   },
   "source": [
    "<h3><strong>e) Método linsolve</strong></h3>"
   ]
  },
  {
   "cell_type": "markdown",
   "metadata": {
    "kernel": "SoS"
   },
   "source": [
    "<div class=\"alert alert-block alert-success\">\n",
    "<h4>En GNU Octave, el metodo linsolve es utilizado para resolver sistemas de ecuaciones</h4>\n",
    "\n",
    "<h4>X = linsolve(A,B) resuelve el sistema lineal AX = B usando uno de los siguientes métodos:</h4>\n",
    " \n",
    "<p>\n",
    "        <li>Cuando A es cuadrado, linsolve usa la factorización LU con pivote parcial.</li>\n",
    "        <li>Para todos los demás casos, linsolve utiliza la factorización QR con pivote de columna.</li>\n",
    "</p>\n",
    "</div>"
   ]
  },
  {
   "cell_type": "markdown",
   "metadata": {
    "kernel": "SoS"
   },
   "source": [
    "![](gradiente.JPG)"
   ]
  },
  {
   "cell_type": "markdown",
   "metadata": {
    "kernel": "SoS"
   },
   "source": [
    "<h3><strong>f) C&oacute;digo en GNU Octave</strong></h3>"
   ]
  },
  {
   "cell_type": "code",
   "execution_count": null,
   "metadata": {
    "kernel": "Octave"
   },
   "outputs": [],
   "source": [
    "warning('off')\n",
    "function [xk,k,err] = newton_raphson_nl(f,vars,x0,tol,maxIter)\n",
    "  n=length(vars);\n",
    "  var=cell(1,n);\n",
    "  for i=1:n\n",
    "    var(1,i)=vars(i);\n",
    "  endfor\n",
    "  index={''};\n",
    "  flag=strcat(var,index);\n",
    "  vars=sym(flag);\n",
    "  xk=x0';\n",
    "  Jf=jacobian(f,vars);\n",
    "  k=0;\n",
    "  err=tol+1;\n",
    "  iteraciones=[0];\n",
    "  error=[err];\n",
    "  while(k<maxIter&& err>tol)\n",
    "    Jf_xk=subs(Jf, vars, xk);\n",
    "    f_xk=(subs(f, vars, xk))';\n",
    "    xk= xk-linsolve(double(Jf_xk), double(f_xk));\n",
    "    k=k+1;\n",
    "    f_xk=double(subs(f, vars, xk));\n",
    "    err=double(norm(f_xk));\n",
    "    iteraciones=[iteraciones k];\n",
    "    error=[error err];\n",
    "  endwhile\n",
    "  plot(iteraciones,error,'b--o')\n",
    "  title(\"Método de Newton-Raphson\");\n",
    "  xlabel(\"Iteraciones\");\n",
    "  ylabel(\"%Error\");\n",
    "endfunction"
   ]
  },
  {
   "cell_type": "markdown",
   "metadata": {
    "kernel": "Python 3"
   },
   "source": [
    "<h3><strong>g) Problema a Resolver</strong></h3>"
   ]
  },
  {
   "cell_type": "markdown",
   "metadata": {
    "kernel": "Python 3"
   },
   "source": [
    "Use la iteración de Newton para aproximar la solución del sistema no lineal\n",
    "\n",
    "$\\left\\{\\begin{matrix}\n",
    "cos(x_{2})-cos(x_{1}) &= & 0 \\\\ \n",
    "x_{3}^{x_{1}} &= & \\frac{1}{x_{2}} \\\\ \n",
    " e^{x_{1}}-x_{3}^{2}&= & 0\n",
    "\\end{matrix}\\right.$\n",
    "\n",
    "Utilice $x_0=(0.5,0.5,0.5)^{t}$ , $tol= 10^{-5}$ , $iterMax=1000$"
   ]
  },
  {
   "cell_type": "code",
   "execution_count": null,
   "metadata": {
    "kernel": "Octave",
    "scrolled": false
   },
   "outputs": [],
   "source": [
    "pkg load symbolic\n",
    "f=[cos(y)-cos(x),(z**x)-(1/y),exp(x)-(z**2)];\n",
    "vars=['x','y','z'];   \n",
    "x0=[0.5 0.5 0.5];\n",
    "tol=0.00001;\n",
    "maxIter=1000;\n",
    "[xk,k,err]=newton_raphson_nl(f,vars,x0,tol,maxIter)"
   ]
  },
  {
   "cell_type": "markdown",
   "metadata": {
    "kernel": "Python 3"
   },
   "source": [
    "<a id='biseccion'></a>\n",
    "<h2><span style=\"color: #993300;\"><span style=\"text-decoration: underline;\"><strong></strong>Parte 2: Método de Newton-Raphson</span></span></h2>"
   ]
  },
  {
   "cell_type": "markdown",
   "metadata": {
    "kernel": "SoS"
   },
   "source": [
    "<h3><strong>a) Problema a Resolver </strong></h3>"
   ]
  },
  {
   "cell_type": "markdown",
   "metadata": {},
   "source": [
    "El artículo **Accelerated methods of order 2p for systems of nonlinear equations** presenta un nuevo método iterativo de orden de convergencia 5, para resolver sistemas de ecuaciones no lineales, al fusionar el método del punto medio con el método de Newton en conjunto con la aproximación para la matriz Jacobiana y así poder reducir el número de iteraciones. Este método fue implementado en Octave y para comprobar su correcta implementación se utilizó el siguiente sistema de ecuaciones no lineal:\n",
    "\n",
    "\\begin{equation}\n",
    "    w^{2} + x -3y + 4z = \\frac{-3}{4}\n",
    "\\end{equation}\n",
    "\\begin{equation}\n",
    "    3w^{2} + x - y^{2} + z^{2} = \\frac{-13}{4}\n",
    "\\end{equation}\n",
    "\\begin{equation}\n",
    "    5w + 3x^{2} + y - 4z^{2} = \\frac{99}{2}\n",
    "\\end{equation}\n",
    "\\begin{equation}\n",
    "    8w^{2} - 14x + 6y^{2} - 7z^{2} = -7\n",
    "\\end{equation}"
   ]
  },
  {
   "cell_type": "markdown",
   "metadata": {
    "kernel": "SoS"
   },
   "source": [
    "<h3><strong>b) Formulaci&oacute;n Matem&aacute;tica</strong></h3>"
   ]
  },
  {
   "cell_type": "markdown",
   "metadata": {},
   "source": [
    "\\begin{equation}\n",
    "    y^{(k)} = x^{k} - \\frac{1}{2} J_f(x^{(k)})^{-1}F(x^{(k)})\n",
    "\\end{equation}\n",
    "\n",
    "\\begin{equation}\n",
    "    z^{(k)} = x^{(k)} - J_f(y^{(k)})^{-1}F(x^{(k)})\n",
    "\\end{equation}\n",
    "\n",
    "\\begin{equation}\n",
    "    x^{(k+1)} = z^{(k)} - (\\alpha J_f(x^{(k)})+ \\beta J_f(y^{(k)})^{-1}F(z^{(k)})\n",
    "\\end{equation}"
   ]
  },
  {
   "cell_type": "markdown",
   "metadata": {
    "kernel": "SoS"
   },
   "source": [
    "<h3><strong>c) Valores Iniciales</strong></h3>"
   ]
  },
  {
   "cell_type": "markdown",
   "metadata": {
    "kernel": "SoS"
   },
   "source": [
    "$x_{0} \\in \\mathbb{R}^{n}=$ Vector inicial para empezar las iteraciones que satisfacen $ F(x)=0_{m} $"
   ]
  },
  {
   "cell_type": "markdown",
   "metadata": {
    "kernel": "SoS"
   },
   "source": [
    "<h3><strong>d) Pasos del m&eacute;todo (Pseudoc&oacute;digo)</strong></h3>"
   ]
  },
  {
   "cell_type": "markdown",
   "metadata": {
    "kernel": "SoS"
   },
   "source": [
    "<div class=\"alert alert-block alert-success\">\n",
    "<h2 style=\"text-align: center;\">Método 1</h2>\n",
    "    \n",
    "    \n",
    "<h4 style=\"padding-left: 30px;\">Entradas:</h4>\n",
    "    \n",
    "<p>\n",
    "        <li>$f$= sistemas de ecuaciones no lineales</li>\n",
    "        <li>vars= variables de las cuales son dependientes el sistema de ecuaciones</li>\n",
    "        <li>x_{0}= vector inicial de soluciones para empezar las iteraciones del método</li>\n",
    "        <li>tol= tolerancia minima aceptada para el vector de soluciones</li>\n",
    "</p>\n",
    "    \n",
    "    \n",
    "<h4 style=\"padding-left: 30px;\">Pseudoc&oacute;digo:</h4>\n",
    "<ul>\n",
    "    <li>Encontrar el jacobiano de $f$ como $Jf$\n",
    "    <li>Aplicar la fórmula de aproximación de la sección de Formulación matemática para obtener $x_{k}$   \n",
    "    <li>Definir $x_{0}=x_{k}$\n",
    "    <li>Definir el error como $error=tol+1$\n",
    "    <li>Definir la iteracion como $k=k+1$\n",
    "<ul>\n",
    "    \n",
    "\n",
    "</ul>\n",
    "</li><li> Mientras el $error>tol $ y $iteracion < maxIter$\n",
    "<ul>\n",
    "    \n",
    "\\begin{equation}\n",
    "    y^{(k)} = x^{k} - \\frac{1}{2} J_f(x^{(k)})^{-1}F(x^{(k)})\n",
    "\\end{equation}\n",
    "\n",
    "\\begin{equation}\n",
    "    z^{(k)} = x^{(k)} - J_f(y^{(k)})^{-1}F(x^{(k)})\n",
    "\\end{equation}\n",
    "\n",
    "\\begin{equation}\n",
    "    x^{(k+1)} = z^{(k)} - (\\alpha J_f(x^{(k)})+ \\beta J_f(y^{(k)})^{-1}F(z^{(k)})\n",
    "\\end{equation}   \n",
    "    \n",
    "     \n",
    "<li>k = k+1</li>    \n",
    "<li>error = $\\begin{Vmatrix}\n",
    "f(x_{k})\n",
    "\\end{Vmatrix}$</li>\n",
    "    \n",
    "\n",
    "</ul>\n",
    "</li>\n",
    "<li>fin</li>\n",
    "</ul>\n",
    "</div>\n"
   ]
  },
  {
   "cell_type": "markdown",
   "metadata": {
    "kernel": "SoS"
   },
   "source": [
    "<h3><strong>e) Método linsolve</strong></h3>"
   ]
  },
  {
   "cell_type": "markdown",
   "metadata": {
    "kernel": "SoS"
   },
   "source": [
    "<div class=\"alert alert-block alert-success\">\n",
    "<h4>En GNU Octave, el metodo linsolve es utilizado para resolver sistemas de ecuaciones</h4>\n",
    "\n",
    "<h4>X = linsolve(A,B) resuelve el sistema lineal AX = B usando uno de los siguientes métodos:</h4>\n",
    " \n",
    "<p>\n",
    "        <li>Cuando A es cuadrado, linsolve usa la factorización LU con pivote parcial.</li>\n",
    "        <li>Para todos los demás casos, linsolve utiliza la factorización QR con pivote de columna.</li>\n",
    "</p>\n",
    "</div>"
   ]
  },
  {
   "cell_type": "markdown",
   "metadata": {
    "kernel": "Octave"
   },
   "source": [
    "<h3><strong>f) C&oacute;digo en GNU Octave</strong></h3>"
   ]
  },
  {
   "cell_type": "code",
   "execution_count": 17,
   "metadata": {
    "kernel": "Octave"
   },
   "outputs": [],
   "source": [
    "warning('off')\n",
    "pkg load symbolic\n",
    "function [x_k,itera] = metodo_1(F,vars,x_0,tol) \n",
    "    w=[];\n",
    "    x=[];\n",
    "    y=[];\n",
    "    z=[];\n",
    "    error=[];\n",
    "    a=1;\n",
    "    b=-2;\n",
    "    itera=0;\n",
    "    iteraciones=[];\n",
    "    ep=tol+1;\n",
    "    JF= jacobian(F,vars);\n",
    "\n",
    "    while(ep>tol)\n",
    "        Jx_kF = linsolve(double(Fx(JF,vars,x_0)), double(-Fx(F, vars, x_0))');\n",
    "\n",
    "        y_k=x_0 + (1/2)*(Jx_kF');\n",
    "\n",
    "        JF_sol = linsolve(double(Fx(JF,vars,y_k)), double(-Fx(F, vars, x_0))');\n",
    "\n",
    "        z_k = x_0 + JF_sol';\n",
    "\n",
    "        M = double(a * Fx(JF,vars,x_0) + b *  Fx(JF,vars,y_k));\n",
    "\n",
    "        Fz= double(Fx(F,vars,z_k));\n",
    "\n",
    "        M_solve = linsolve(M,-Fz');\n",
    "\n",
    "        x_k = z_k + M_solve';\n",
    "\n",
    "        x_0=x_k;\n",
    "\n",
    "        itera = itera+ 1;\n",
    "        iteraciones=[iteraciones itera];\n",
    "        w=[w x_0(1)];\n",
    "        x=[x x_0(2)];\n",
    "        y=[y x_0(3)];\n",
    "        z=[z x_0(4)];\n",
    "        error=[error ep];\n",
    "        ep=double(norm(Fx(F,vars,x_0)));\n",
    "    endwhile\n",
    "    plot(iteraciones,error,'b--o') \n",
    "    title(\"Método de Newton-Raphson\");\n",
    "    xlabel(\"Iteraciones\");\n",
    "    ylabel(\"%Error\");\n",
    "endfunction\n",
    "\n",
    "function F = Fx(f,vars,x_0) \n",
    "    F=subs(f, vars, x_0);     \n",
    "endfunction"
   ]
  },
  {
   "cell_type": "markdown",
   "metadata": {
    "kernel": "Octave"
   },
   "source": [
    "<h3><strong>g) Problema a Resolver</strong></h3>"
   ]
  },
  {
   "cell_type": "code",
   "execution_count": 18,
   "metadata": {
    "kernel": "Octave"
   },
   "outputs": [
    {
     "name": "stdout",
     "output_type": "stream",
     "text": [
      "x_k =\n",
      "\n",
      "   0.50000   4.00000   3.00000   1.00000\n",
      "\n",
      "itera =  4\n"
     ]
    },
    {
     "data": {
      "image/png": "[encoded data removed]",
      "text/plain": [
       "<IPython.core.display.Image object>"
      ]
     },
     "metadata": {},
     "output_type": "display_data"
    }
   ],
   "source": [
    "pkg load symbolic\n",
    "syms x y z w\n",
    "f=[(w**2)+x-(3*y)+(4*z)+(3/4),(3*w**2)+x-(y**2)+(z**2)+(13/4),(5*w)+(3*x**2)+y-(4*z**2)-(99/2),(8*w**2)-(14*x)+(6*y**2)-(7*z**2)+7];\n",
    "vars=[w,x,y,z];\n",
    "x0=[2 1 2 1];\n",
    "tol=0.1;\n",
    "[x_k,itera]=metodo_1(f,vars,x0,tol)"
   ]
  },
  {
   "cell_type": "markdown",
   "metadata": {
    "kernel": "Octave"
   },
   "source": [
    "<h3><strong>h) Análisis de Resultados </strong></h3>"
   ]
  },
  {
   "cell_type": "markdown",
   "metadata": {
    "kernel": "Octave"
   },
   "source": [
    "El método realiza la aproximación de los valores del sistema de ecuaciones en una cantidad de iteraciones menor a la que lo hace el Método de Newton-Raphson y con un margen de error menor, lo que lo vuelve un sistema más preciso en comparación con otros sistemas de ecuaciones no lineales."
   ]
  },
  {
   "cell_type": "markdown",
   "metadata": {},
   "source": [
    "<a id='biseccion'></a> <h2><span style=\"color: #993300;\"><span style=\"text-decoration: underline;\"><strong></strong>Parte 2: Aumento del orden de convergencia para esquemas iterativos para resolver sistemas no lineales</span></span></h2>"
   ]
  },
  {
   "cell_type": "markdown",
   "metadata": {},
   "source": [
    "<h3><strong>a) Problema a Resolver </strong></h3>"
   ]
  },
  {
   "cell_type": "markdown",
   "metadata": {},
   "source": [
    "El artículo **Increasing the order of convergence of iterative schemes for solving nonlinear system** presenta un conjunto de métodos iterativos de varios pasos con un orden de convergencia creciente para resolver sistemas de ecuaciones no lineales, una de las principales ventajas de estos esquemas es lograr un alto orden de convergencia con pocas evaluaciones jacobianas y funcionales, junto con el uso de la misma matriz de coeficientes en la mayoría de los sistemas lineales involucrados en el\n",
    "proceso."
   ]
  },
  {
   "cell_type": "markdown",
   "metadata": {},
   "source": [
    "<h3><strong>b) Formulaci&oacute;n Matem&aacute;tica</strong></h3>"
   ]
  },
  {
   "cell_type": "markdown",
   "metadata": {},
   "source": [
    "\\begin{equation}\n",
    "    y^{(k)} = x^{(k)} - \\frac{1}{2} [F'(x^{(k)})]^{-1}F(x^{((k))})\n",
    "\\end{equation}\n",
    "\n",
    "\\begin{equation}\n",
    "    z^{(k)} = \\frac{1}{3}(4y^{(k)} - x^{(k)})\n",
    "\\end{equation}\n",
    "\n",
    "\\begin{equation}\n",
    "    u^{(k)} = y^{(k)} + [F'(x^{(k)} - 3F'(z^{(k)})]^{-1}F(x^{(k)})\n",
    "\\end{equation}\n",
    "\n",
    "\\begin{equation}\n",
    "    v^{(k)} = u^{(k)} + 2[F'(x^{(k)} - 3F'(z^{(k)})]^{-1}F(u^{(k)})\n",
    "\\end{equation}\n",
    "\n",
    "\\begin{equation}\n",
    "    x^{k+1)} = v^{(k)} + 2[F'(x^{(k)} - 3F'(z^{(k)})]^{-1}F(v^{(k)})\n",
    "\\end{equation}"
   ]
  },
  {
   "cell_type": "markdown",
   "metadata": {},
   "source": [
    "<h3><strong>c) Valores Iniciales</strong></h3>"
   ]
  },
  {
   "cell_type": "markdown",
   "metadata": {},
   "source": [
    "$x_{0} \\in \\mathbb{R}^{n}=$ Vector inicial para empezar las iteraciones que satisfacen $ F(x)=0_{m} $"
   ]
  },
  {
   "cell_type": "markdown",
   "metadata": {},
   "source": [
    "<h3><strong>d) Pasos del m&eacute;todo (Pseudoc&oacute;digo)</strong></h3>"
   ]
  },
  {
   "cell_type": "markdown",
   "metadata": {},
   "source": [
    "<div class=\"alert alert-block alert-success\">\n",
    "<h2 style=\"text-align: center;\">Método 2</h2>\n",
    "    \n",
    "    \n",
    "<h4 style=\"padding-left: 30px;\">Entradas:</h4>\n",
    "    \n",
    "<p>\n",
    "        <li>$f$= sistemas de ecuaciones no lineales</li>\n",
    "        <li>vars= variables de las cuales son dependientes el sistema de ecuaciones</li>\n",
    "        <li>x_{0}= vector inicial de soluciones para empezar las iteraciones del método</li>\n",
    "        <li>tol= tolerancia minima aceptada para el vector de soluciones</li>\n",
    "</p>\n",
    "    \n",
    "    \n",
    "<h4 style=\"padding-left: 30px;\">Pseudoc&oacute;digo:</h4>\n",
    "<ul>\n",
    "    <li>Encontrar el jacobiano de $f$ como $Jf$\n",
    "    <li>Aplicar la fórmula de aproximación de la sección de Formulación matemática para obtener $x_{k}$   \n",
    "    <li>Definir $x_{0}=x_{k}$\n",
    "    <li>Definir el error como $error=tol+1$\n",
    "    <li>Definir la iteracion como $k=k+1$\n",
    "<ul>\n",
    "    \n",
    "\n",
    "</ul>\n",
    "</li><li> Mientras el $error>tol $\n",
    "<ul>\n",
    "    \n",
    "\\begin{equation}\n",
    "    y^{(k)} = x^{(k)} - \\frac{1}{2} [F'(x^{(k)})]^{-1}F(x^{((k))})\n",
    "\\end{equation}\n",
    "\n",
    "\\begin{equation}\n",
    "    z^{(k)} = \\frac{1}{3}(4y^{(k)} - x^{(k)})\n",
    "\\end{equation}\n",
    "\n",
    "\\begin{equation}\n",
    "    u^{(k)} = y^{(k)} + [F'(x^{(k)} - 3F'(z^{(k)})]^{-1}F(x^{(k)})\n",
    "\\end{equation}\n",
    "\n",
    "\\begin{equation}\n",
    "    v^{(k)} = u^{(k)} + 2[F'(x^{(k)} - 3F'(z^{(k)})]^{-1}F(u^{(k)})\n",
    "\\end{equation}\n",
    "\n",
    "\\begin{equation}\n",
    "    x^{k+1)} = v^{(k)} + 2[F'(x^{(k)} - 3F'(z^{(k)})]^{-1}F(v^{(k)})\n",
    "\\end{equation}  \n",
    "    \n",
    "     \n",
    "<li>k = k+1</li>    \n",
    "<li>error = $\\begin{Vmatrix}\n",
    "f(x_{k})\n",
    "\\end{Vmatrix}$</li>\n",
    "    \n",
    "\n",
    "</ul>\n",
    "</li>\n",
    "<li>fin</li>\n",
    "</ul>\n",
    "</div>\n"
   ]
  },
  {
   "cell_type": "markdown",
   "metadata": {},
   "source": [
    "<h3><strong>e) Método linsolve</strong></h3>"
   ]
  },
  {
   "cell_type": "markdown",
   "metadata": {},
   "source": [
    "<div class=\"alert alert-block alert-success\">\n",
    "<h4>En GNU Octave, el metodo linsolve es utilizado para resolver sistemas de ecuaciones</h4>\n",
    "\n",
    "<h4>X = linsolve(A,B) resuelve el sistema lineal AX = B usando uno de los siguientes métodos:</h4>\n",
    " \n",
    "<p>\n",
    "        <li>Cuando A es cuadrado, linsolve usa la factorización LU con pivote parcial.</li>\n",
    "        <li>Para todos los demás casos, linsolve utiliza la factorización QR con pivote de columna.</li>\n",
    "</p>\n",
    "</div>"
   ]
  },
  {
   "cell_type": "markdown",
   "metadata": {},
   "source": [
    "<h3><strong>f) C&oacute;digo en GNU Octave</strong></h3>"
   ]
  },
  {
   "cell_type": "code",
   "execution_count": null,
   "metadata": {},
   "outputs": [],
   "source": [
    "warning('off')\n",
    "pkg load symbolic\n",
    "function [x_k, itera] = metodo_2(F, vars, x_0, tol)\n",
    "  w = [];\n",
    "  x = [];\n",
    "  y = [];\n",
    "  z = [];\n",
    "  error = [];\n",
    "  itera = 0;\n",
    "  iteraciones = [];\n",
    "  ep = tol + 1;\n",
    "  \n",
    "  JF = jacobian(F, vars);\n",
    "  \n",
    "  while(ep > tol)\n",
    "\n",
    "    mdx = linsolve(double((Fx(JF, vars, x_0))), double(Fx(F, vars, x_0))');\n",
    "    \n",
    "    y_k = x_0 - (1/2)*(mdx');\n",
    "    \n",
    "    z_k = (1/3)*(4*y_k - x_0);\n",
    "  \n",
    "    mxz = double((Fx(JF, vars, x_0)) - 3 * (Fx(JF, vars, z_k)));\n",
    " \n",
    "    mxzxSolve = linsolve(mxz, double(Fx(F, vars, x_0))');\n",
    "    \n",
    "    u_k = y_k + mxzxSolve';\n",
    "  \n",
    "    mxz2 = double((Fx(JF, vars, x_0) - 3 * Fx(JF, vars, z_k)));\n",
    "    \n",
    "    \n",
    "    mxzuSolve = linsolve(2*mxz2, double(Fx(F, vars, x_0))');\n",
    "    \n",
    "    v_k = u_k + mxzuSolve';\n",
    "  \n",
    "    mxzvSolve = linsolve(2*mxz2, double(Fx(F, vars, v_k))');\n",
    "    \n",
    "    x_k = v_k + mxzvSolve';\n",
    "  \n",
    "    x_0 = x_k;\n",
    "  \n",
    "    itera = itera + 1;\n",
    "    iteraciones = [iteraciones itera];\n",
    "    w = [w x_0(1)];\n",
    "    x = [x x_0(2)];\n",
    "    y = [y x_0(3)];\n",
    "    z = [z x_0(4)];\n",
    "    error = [error ep];\n",
    "    ep = double(norm(Fx( F, vars, x_0)));\n",
    "  endwhile\n",
    "  plot(iteraciones, error, 'b--o');\n",
    "  title(\"Método de Newton-Raphson\");\n",
    "  xlabel(\"Iteraciones\");\n",
    "  ylabel(\"%Error\");\n",
    "endfunction\n",
    "\n",
    "function F = Fx(f, vars, x_0)\n",
    "  F = subs(f, vars, x_0);\n",
    "endfunction\n"
   ]
  },
  {
   "cell_type": "markdown",
   "metadata": {},
   "source": [
    "<h3><strong>g) Problema a Resolver</strong></h3>"
   ]
  },
  {
   "cell_type": "code",
   "execution_count": null,
   "metadata": {},
   "outputs": [],
   "source": [
    "pkg load symbolic\n",
    "syms x y z w\n",
    "f=[(w**2)+x-(3*y)+(4*z)+(3/4),(3*w**2)+x-(y**2)+(z**2)+(13/4),(5*w)+(3*x**2)+y-(4*z**2)-(99/2),(8*w**2)-(14*x)+(6*y**2)-(7*z**2)+7];\n",
    "vars=[w,x,y,z];\n",
    "x0=[2 1 2 1];\n",
    "tol=0.1;\n",
    "[x_k,itera]=metodo_2(f,vars,x0,tol)"
   ]
  }
 ],
 "metadata": {
  "kernelspec": {
   "display_name": "Octave",
   "language": "octave",
   "name": "octave"
  },
  "language_info": {
   "file_extension": ".m",
   "help_links": [
    {
     "text": "GNU Octave",
     "url": "https://www.gnu.org/software/octave/support.html"
    },
    {
     "text": "Octave Kernel",
     "url": "https://github.com/Calysto/octave_kernel"
    },
    {
     "text": "MetaKernel Magics",
     "url": "https://metakernel.readthedocs.io/en/latest/source/README.html"
    }
   ],
   "mimetype": "text/x-octave",
   "name": "octave",
   "version": "5.2.0"
  },
  "sos": {
   "kernels": [
    [
     "Octave",
     "octave",
     "octave",
     "",
     ""
    ],
    [
     "Python 3",
     "python3",
     "python3",
     "",
     {
      "name": "ipython",
      "version": 3
     }
    ]
   ],
   "panel": {
    "displayed": true,
    "height": 0
   },
   "version": "0.21.7"
  }
 },
 "nbformat": 4,
 "nbformat_minor": 2
}
