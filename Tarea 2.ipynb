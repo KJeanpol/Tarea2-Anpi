{
 "cells": [
  {
   "cell_type": "markdown",
   "metadata": {
    "kernel": "SoS"
   },
   "source": [
    "<div style=\"text-align: center;\" role=\"presentation\">\n",
    "<h1 role=\"presentation\"><strong><span role=\"presentation\">An&aacute;lisis Num&eacute;rico para Ingenier&iacute;a - I Semestre 2020</span></strong></h1>"
   ]
  },
  {
   "cell_type": "markdown",
   "metadata": {
    "kernel": "SoS"
   },
   "source": [
    "<h1 style=\"text-align: center;\"><span style=\"color: #0000ff;\">TAREA 2</span></h1>"
   ]
  },
  {
   "cell_type": "markdown",
   "metadata": {
    "kernel": "SoS"
   },
   "source": [
    "<p><strong>Descripci&oacute;n:&nbsp;</strong>Este documento presenta la resolucion de la tarea 2 del curso Analisis Numerico para Ingenieria.</p>\n",
    "\n",
    "<p><strong>Integrantes</strong><ul>\n",
    "<li>Kenneth Jeanpol Alvarado Mendez 2015095715</li>\n",
    "</ul>.</p>\n"
   ]
  },
  {
   "cell_type": "markdown",
   "metadata": {
    "kernel": "SoS"
   },
   "source": [
    "<a id='biseccion'></a>\n",
    "<h2><span style=\"color: #993300;\"><span style=\"text-decoration: underline;\"><strong></strong>Parte 1: Método de Newton-Raphson</span></span></h2>"
   ]
  },
  {
   "cell_type": "markdown",
   "metadata": {
    "kernel": "SoS"
   },
   "source": [
    "<h3><strong>a) C&oacute;digo en GNU Octave</strong></h3>"
   ]
  },
  {
   "cell_type": "code",
   "execution_count": 23,
   "metadata": {
    "kernel": "Octave"
   },
   "outputs": [],
   "source": [
    "warning('off')\n",
    "function [xk,k,err] = newtonRaphson(f,vars,x0,tol,maxIter)\n",
    "  syms x y z\n",
    "  xk=x0';\n",
    "  Jf=jacobian(f,vars);\n",
    "  k=0;\n",
    "  err=tol+1;\n",
    "  iteraciones=[0];\n",
    "  error=[err];\n",
    "  while(k<maxIter&& err>tol)\n",
    "    Jf_xk=subs(Jf, vars, xk);\n",
    "    f_xk=(subs(f, vars, xk))';\n",
    "    xk= xk-linsolve(double(Jf_xk), double(f_xk));\n",
    "    k=k+1;\n",
    "    f_xk=double(subs(f, vars, xk));\n",
    "    err=double(norm(f_xk));\n",
    "    iteraciones=[iteraciones k];\n",
    "    error=[error err];\n",
    "  endwhile\n",
    "  plot(iteraciones,error,'b--o')\n",
    "endfunction"
   ]
  },
  {
   "cell_type": "markdown",
   "metadata": {
    "kernel": "Python 3"
   },
   "source": [
    "<h3><strong>b) C&oacute;digo en Python</strong></h3>"
   ]
  },
  {
   "cell_type": "code",
   "execution_count": null,
   "metadata": {
    "kernel": "Python 3"
   },
   "outputs": [],
   "source": []
  },
  {
   "cell_type": "markdown",
   "metadata": {
    "kernel": "Python 3"
   },
   "source": [
    "<h3><strong>c) Problema a Resolver</strong></h3>"
   ]
  },
  {
   "cell_type": "markdown",
   "metadata": {
    "kernel": "Python 3"
   },
   "source": [
    "Use la iteración de Newton para aproximar la solución del sistema no lineal\n",
    "\n",
    "$\\left\\{\\begin{matrix}\n",
    "cos(x_{2})-cos(x_{1}) &= & 0 \\\\ \n",
    "x_{3}^{x_{1}} &= & \\frac{1}{x_{2}} \\\\ \n",
    " e^{x_{1}}-x_{3}^{2}&= & 0\n",
    "\\end{matrix}\\right.$\n",
    "\n",
    "Utilice $x_0=(0.5,0.5,0.5)^{t}$ , $tol= 10^{-5}$ , $iterMax=1000$"
   ]
  },
  {
   "cell_type": "code",
   "execution_count": 24,
   "metadata": {
    "kernel": "Octave",
    "scrolled": false
   },
   "outputs": [
    {
     "name": "stdout",
     "output_type": "stream",
     "text": [
      "xk =\n",
      "\n",
      "   0.78521\n",
      "   0.49661\n",
      "   0.36992\n",
      "\n",
      "k =  3\n",
      "err =  0.000078743\n"
     ]
    },
    {
     "data": {
      "image/png": "[encoded data removed]",
      "text/plain": [
       "<IPython.core.display.Image object>"
      ]
     },
     "metadata": {},
     "output_type": "display_data"
    }
   ],
   "source": [
    "pkg load symbolic\n",
    "syms x y z\n",
    "f=[(x**2)+(y**2)+(z**2)-1,(2*x**2)+(y**2)-4*z,(3*x**2)-(4*y)+z**2];\n",
    "vars=[x,y,z];\n",
    "x0=[0.5 0.5 0.5];\n",
    "tol=0.0001;\n",
    "maxIter=5;\n",
    "[xk,k,err]=newtonRaphson(f,vars,x0,tol,maxIter)"
   ]
  },
  {
   "cell_type": "code",
   "execution_count": null,
   "metadata": {
    "kernel": "Python 3"
   },
   "outputs": [],
   "source": []
  }
 ],
 "metadata": {
  "kernelspec": {
   "display_name": "SoS",
   "language": "sos",
   "name": "sos"
  },
  "language_info": {
   "codemirror_mode": "sos",
   "file_extension": ".sos",
   "mimetype": "text/x-sos",
   "name": "sos",
   "nbconvert_exporter": "sos_notebook.converter.SoS_Exporter",
   "pygments_lexer": "sos"
  },
  "sos": {
   "kernels": [
    [
     "Octave",
     "octave",
     "octave",
     "",
     ""
    ],
    [
     "Python 3",
     "python3",
     "python3",
     "",
     {
      "name": "ipython",
      "version": 3
     }
    ]
   ],
   "panel": {
    "displayed": true,
    "height": 0
   },
   "version": "0.21.7"
  }
 },
 "nbformat": 4,
 "nbformat_minor": 2
}
